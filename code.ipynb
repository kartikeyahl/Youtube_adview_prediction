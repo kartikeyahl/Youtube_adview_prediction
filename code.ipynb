{
  "nbformat": 4,
  "nbformat_minor": 0,
  "metadata": {
    "colab": {
      "name": "Untitled5.ipynb",
      "provenance": [],
      "collapsed_sections": [],
      "authorship_tag": "ABX9TyMw2Hp2c4Fsc65h1ylKDUpO",
      "include_colab_link": true
    },
    "kernelspec": {
      "name": "python3",
      "display_name": "Python 3"
    }
  },
  "cells": [
    {
      "cell_type": "markdown",
      "metadata": {
        "id": "view-in-github",
        "colab_type": "text"
      },
      "source": [
        "<a href=\"https://colab.research.google.com/github/kartikeyahl/unique-12/blob/master/Untitled5.ipynb\" target=\"_parent\"><img src=\"https://colab.research.google.com/assets/colab-badge.svg\" alt=\"Open In Colab\"/></a>"
      ]
    },
    {
      "cell_type": "code",
      "metadata": {
        "colab": {
          "base_uri": "https://localhost:8080/"
        },
        "id": "B9_MyuiYhSn_",
        "outputId": "ef7632dd-93da-401c-a5d1-bebf4d5d4bd3"
      },
      "source": [
        "# Importing the libraries\n",
        "import numpy as np\n",
        "import matplotlib.pyplot as plt\n",
        "import pandas as pd\n",
        "import seaborn as sns\n",
        "from sklearn.metrics import accuracy_score\n",
        "from sklearn.metrics import r2_score\n",
        "import xgboost as xg \n",
        "\n",
        "# Importing the dataset\n",
        "dataset = pd.read_csv('ytrain.csv')                   #endpoint 1(input of .csv file)\n",
        "X = dataset.iloc[:, :-2].values\n",
        "y = dataset.iloc[:, -1].values\n",
        "y = y.reshape(-1,1)\n",
        "data = pd.read_csv('test.csv')                   #endpoint 1(input of .csv file)\n",
        "datay = dataset.iloc[:, 0:4].values\n",
        "\n",
        "# Taking care of missing data\n",
        "from sklearn.impute import SimpleImputer\n",
        "imputer = SimpleImputer(missing_values=np.nan, strategy='mean')\n",
        "imputer.fit(X[:, 0:4])\n",
        "X[:, 0:4] = imputer.transform(X[:, 0:4])\n",
        "y=imputer.fit_transform(y)\n",
        "datay= imputer.fit_transform(datay)\n",
        "\n",
        "# Splitting the dataset into the Training set and Test set\n",
        "from sklearn.model_selection import train_test_split\n",
        "X_train, X_test, y_train, y_test = train_test_split(X, y, test_size = 0.25, random_state = 0)\n",
        "\n",
        "from sklearn import metrics\n",
        "def print_error(X_test, y_test, model_name):\n",
        "  prediction = model_name.predict(X_test)\n",
        "  print('Mean Absolute Error:', metrics.mean_absolute_error(y_test, prediction))\n",
        "  print('Mean Squared Error:', metrics.mean_squared_error(y_test, prediction))\n",
        "  print('Root Mean Squared Error:', np.sqrt(metrics.mean_squared_error(y_test, prediction)))\n",
        "\n",
        "# Training the Simple Linear Regression model on the Training set\n",
        "from sklearn.linear_model import LinearRegression\n",
        "regressor = LinearRegression()\n",
        "regressor.fit(X_train, y_train)\n",
        "\n",
        "print_error(X_test,y_test, regressor)\n",
        "\n",
        "r2_score(y_test, y_pred)\n",
        "\n",
        "\n",
        "\n",
        "\n",
        "\n"
      ],
      "execution_count": 25,
      "outputs": [
        {
          "output_type": "stream",
          "text": [
            "[08:55:52] WARNING: /workspace/src/objective/regression_obj.cu:152: reg:linear is now deprecated in favor of reg:squarederror.\n",
            "Mean Absolute Error: 3095.8893037638345\n",
            "Mean Squared Error: 1643339723.9168308\n",
            "Root Mean Squared Error: 40538.12679338836\n"
          ],
          "name": "stdout"
        },
        {
          "output_type": "execute_result",
          "data": {
            "text/plain": [
              "-0.006727462113284899"
            ]
          },
          "metadata": {
            "tags": []
          },
          "execution_count": 25
        }
      ]
    },
    {
      "cell_type": "code",
      "metadata": {
        "id": "Th9JiQ6fmKPE"
      },
      "source": [
        "preds = regressor.predict(datay)\n",
        "preds = preds.astype(np.int16)"
      ],
      "execution_count": 29,
      "outputs": []
    },
    {
      "cell_type": "code",
      "metadata": {
        "id": "yT238g6EmP6P"
      },
      "source": [
        "preds = preds.reshape(1, -1)[0].tolist()\n",
        "d = {'adview': preds}\n",
        "pd.DataFrame(d).to_csv('predictions.csv', index=False)"
      ],
      "execution_count": 30,
      "outputs": []
    },
    {
      "cell_type": "code",
      "metadata": {
        "id": "qcQ2Z6aT78k2"
      },
      "source": [
        ""
      ],
      "execution_count": null,
      "outputs": []
    }
  ]
}
